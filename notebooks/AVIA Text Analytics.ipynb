{
 "cells": [
  {
   "cell_type": "markdown",
   "id": "3014cfb0",
   "metadata": {},
   "source": [
    "# Background\n",
    "\n",
    "Basically, given the candidates answers for each question. For each answer, we want to extract the following:\n",
    "\n",
    "* 1-gram keyword extraction\n",
    "* 2-gram keyword extraction\n",
    "* Sentiment analysis\n",
    "\n",
    "The 1-gram and 2-gram keyword extraction is to extract keywords and see if it matches with the expected keywords we expect candidates to have. This allows for computation of scores. No need to worry about it at this point. Important is to conduct the 1-gram keyword extraction.\n",
    "\n",
    "Sentiment analysis can also be done on the answers. Give it a try and see what you get!"
   ]
  },
  {
   "cell_type": "code",
   "execution_count": 4,
   "id": "35976a62",
   "metadata": {
    "ExecuteTime": {
     "end_time": "2021-06-23T15:07:15.450270Z",
     "start_time": "2021-06-23T15:07:15.447256Z"
    }
   },
   "outputs": [],
   "source": [
    "import pandas as pd"
   ]
  },
  {
   "cell_type": "markdown",
   "id": "6ff496fc",
   "metadata": {},
   "source": [
    "# Data Loading"
   ]
  },
  {
   "cell_type": "code",
   "execution_count": 6,
   "id": "1af2d702",
   "metadata": {
    "ExecuteTime": {
     "end_time": "2021-06-23T15:07:19.778428Z",
     "start_time": "2021-06-23T15:07:19.770438Z"
    }
   },
   "outputs": [],
   "source": [
    "df = pd.read_csv('writing_data.csv')"
   ]
  },
  {
   "cell_type": "code",
   "execution_count": 7,
   "id": "d9e07538",
   "metadata": {
    "ExecuteTime": {
     "end_time": "2021-06-23T15:07:21.032981Z",
     "start_time": "2021-06-23T15:07:21.022014Z"
    }
   },
   "outputs": [
    {
     "data": {
      "text/html": [
       "<div>\n",
       "<style scoped>\n",
       "    .dataframe tbody tr th:only-of-type {\n",
       "        vertical-align: middle;\n",
       "    }\n",
       "\n",
       "    .dataframe tbody tr th {\n",
       "        vertical-align: top;\n",
       "    }\n",
       "\n",
       "    .dataframe thead th {\n",
       "        text-align: right;\n",
       "    }\n",
       "</style>\n",
       "<table border=\"1\" class=\"dataframe\">\n",
       "  <thead>\n",
       "    <tr style=\"text-align: right;\">\n",
       "      <th></th>\n",
       "      <th>question_no</th>\n",
       "      <th>question</th>\n",
       "      <th>answer</th>\n",
       "    </tr>\n",
       "  </thead>\n",
       "  <tbody>\n",
       "    <tr>\n",
       "      <th>0</th>\n",
       "      <td>1</td>\n",
       "      <td>You are asked to finish a large number of task...</td>\n",
       "      <td>I will group them according to their level of ...</td>\n",
       "    </tr>\n",
       "    <tr>\n",
       "      <th>1</th>\n",
       "      <td>2</td>\n",
       "      <td>Everyone makes mistakes. How would you rectify...</td>\n",
       "      <td>Once I know I made a mistake, I will let my su...</td>\n",
       "    </tr>\n",
       "    <tr>\n",
       "      <th>2</th>\n",
       "      <td>3</td>\n",
       "      <td>When there is an expansion of your team and ma...</td>\n",
       "      <td>I will be friendly to them and give a helpful ...</td>\n",
       "    </tr>\n",
       "    <tr>\n",
       "      <th>3</th>\n",
       "      <td>4</td>\n",
       "      <td>If you are 100% sure that your boss’s idea is ...</td>\n",
       "      <td>I will try to provide another idea to persuade...</td>\n",
       "    </tr>\n",
       "    <tr>\n",
       "      <th>4</th>\n",
       "      <td>5</td>\n",
       "      <td>When you are trying to deliver a complex idea ...</td>\n",
       "      <td>Since the idea is complicated, I will try to b...</td>\n",
       "    </tr>\n",
       "  </tbody>\n",
       "</table>\n",
       "</div>"
      ],
      "text/plain": [
       "   question_no                                           question  \\\n",
       "0            1  You are asked to finish a large number of task...   \n",
       "1            2  Everyone makes mistakes. How would you rectify...   \n",
       "2            3  When there is an expansion of your team and ma...   \n",
       "3            4  If you are 100% sure that your boss’s idea is ...   \n",
       "4            5  When you are trying to deliver a complex idea ...   \n",
       "\n",
       "                                              answer  \n",
       "0  I will group them according to their level of ...  \n",
       "1  Once I know I made a mistake, I will let my su...  \n",
       "2  I will be friendly to them and give a helpful ...  \n",
       "3  I will try to provide another idea to persuade...  \n",
       "4  Since the idea is complicated, I will try to b...  "
      ]
     },
     "execution_count": 7,
     "metadata": {},
     "output_type": "execute_result"
    }
   ],
   "source": [
    "df"
   ]
  },
  {
   "cell_type": "markdown",
   "id": "35ce8b4e",
   "metadata": {},
   "source": [
    "# 1 - gram keyword extraction"
   ]
  },
  {
   "cell_type": "code",
   "execution_count": null,
   "id": "0532e997",
   "metadata": {},
   "outputs": [],
   "source": []
  },
  {
   "cell_type": "code",
   "execution_count": null,
   "id": "6040e44f",
   "metadata": {},
   "outputs": [],
   "source": []
  },
  {
   "cell_type": "markdown",
   "id": "a3a0271c",
   "metadata": {},
   "source": [
    "# 2 - gram keyword extraction"
   ]
  },
  {
   "cell_type": "code",
   "execution_count": null,
   "id": "c9f4a2af",
   "metadata": {},
   "outputs": [],
   "source": []
  },
  {
   "cell_type": "code",
   "execution_count": null,
   "id": "9cd652b8",
   "metadata": {},
   "outputs": [],
   "source": []
  },
  {
   "cell_type": "markdown",
   "id": "015b3fd5",
   "metadata": {},
   "source": [
    "# Sentiment Analysis"
   ]
  },
  {
   "cell_type": "code",
   "execution_count": null,
   "id": "9cb31e91",
   "metadata": {},
   "outputs": [],
   "source": []
  }
 ],
 "metadata": {
  "kernelspec": {
   "display_name": "Python 3",
   "language": "python",
   "name": "python3"
  },
  "language_info": {
   "codemirror_mode": {
    "name": "ipython",
    "version": 3
   },
   "file_extension": ".py",
   "mimetype": "text/x-python",
   "name": "python",
   "nbconvert_exporter": "python",
   "pygments_lexer": "ipython3",
   "version": "3.6.13"
  },
  "toc": {
   "base_numbering": 1,
   "nav_menu": {},
   "number_sections": true,
   "sideBar": true,
   "skip_h1_title": false,
   "title_cell": "Table of Contents",
   "title_sidebar": "Contents",
   "toc_cell": false,
   "toc_position": {},
   "toc_section_display": true,
   "toc_window_display": false
  }
 },
 "nbformat": 4,
 "nbformat_minor": 5
}
