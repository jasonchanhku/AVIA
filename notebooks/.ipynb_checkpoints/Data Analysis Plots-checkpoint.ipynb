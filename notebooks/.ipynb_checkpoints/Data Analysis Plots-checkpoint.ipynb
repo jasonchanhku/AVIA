{
 "cells": [
  {
   "cell_type": "markdown",
   "id": "23d62d57",
   "metadata": {},
   "source": [
    "# Video Analytics"
   ]
  },
  {
   "cell_type": "code",
   "execution_count": 1,
   "id": "609c3a28",
   "metadata": {
    "ExecuteTime": {
     "end_time": "2021-06-30T14:33:26.248365Z",
     "start_time": "2021-06-30T14:33:25.716226Z"
    }
   },
   "outputs": [],
   "source": [
    "import pandas as pd\n",
    "import numpy as np\n",
    "import altair as alt"
   ]
  },
  {
   "cell_type": "code",
   "execution_count": 2,
   "id": "66700991",
   "metadata": {
    "ExecuteTime": {
     "end_time": "2021-06-30T14:33:26.279284Z",
     "start_time": "2021-06-30T14:33:26.249330Z"
    }
   },
   "outputs": [],
   "source": [
    "video_df = pd.read_csv('../sample_output/emotion_data.csv')\n",
    "\n",
    "video_df['datetime'] = pd.to_datetime(video_df['datetime'], format=\"%Y-%m-%d %H:%M:%S:%f\")\n",
    "\n",
    "agg_df = video_df.groupby(['question', 'name']).size().to_frame('count').reset_index()\n",
    "\n",
    "agg_df['percentage'] = round(agg_df['count'] / agg_df.groupby('question')['count'].transform('sum'), 2)"
   ]
  },
  {
   "cell_type": "code",
   "execution_count": 3,
   "id": "6aa799cb",
   "metadata": {
    "ExecuteTime": {
     "end_time": "2021-06-30T14:33:26.326123Z",
     "start_time": "2021-06-30T14:33:26.282242Z"
    }
   },
   "outputs": [
    {
     "data": {
      "text/html": [
       "\n",
       "<div id=\"altair-viz-20cf98f4622c427a8e5f17bf36e597cc\"></div>\n",
       "<script type=\"text/javascript\">\n",
       "  (function(spec, embedOpt){\n",
       "    let outputDiv = document.currentScript.previousElementSibling;\n",
       "    if (outputDiv.id !== \"altair-viz-20cf98f4622c427a8e5f17bf36e597cc\") {\n",
       "      outputDiv = document.getElementById(\"altair-viz-20cf98f4622c427a8e5f17bf36e597cc\");\n",
       "    }\n",
       "    const paths = {\n",
       "      \"vega\": \"https://cdn.jsdelivr.net/npm//vega@5?noext\",\n",
       "      \"vega-lib\": \"https://cdn.jsdelivr.net/npm//vega-lib?noext\",\n",
       "      \"vega-lite\": \"https://cdn.jsdelivr.net/npm//vega-lite@4.8.1?noext\",\n",
       "      \"vega-embed\": \"https://cdn.jsdelivr.net/npm//vega-embed@6?noext\",\n",
       "    };\n",
       "\n",
       "    function loadScript(lib) {\n",
       "      return new Promise(function(resolve, reject) {\n",
       "        var s = document.createElement('script');\n",
       "        s.src = paths[lib];\n",
       "        s.async = true;\n",
       "        s.onload = () => resolve(paths[lib]);\n",
       "        s.onerror = () => reject(`Error loading script: ${paths[lib]}`);\n",
       "        document.getElementsByTagName(\"head\")[0].appendChild(s);\n",
       "      });\n",
       "    }\n",
       "\n",
       "    function showError(err) {\n",
       "      outputDiv.innerHTML = `<div class=\"error\" style=\"color:red;\">${err}</div>`;\n",
       "      throw err;\n",
       "    }\n",
       "\n",
       "    function displayChart(vegaEmbed) {\n",
       "      vegaEmbed(outputDiv, spec, embedOpt)\n",
       "        .catch(err => showError(`Javascript Error: ${err.message}<br>This usually means there's a typo in your chart specification. See the javascript console for the full traceback.`));\n",
       "    }\n",
       "\n",
       "    if(typeof define === \"function\" && define.amd) {\n",
       "      requirejs.config({paths});\n",
       "      require([\"vega-embed\"], displayChart, err => showError(`Error loading script: ${err.message}`));\n",
       "    } else if (typeof vegaEmbed === \"function\") {\n",
       "      displayChart(vegaEmbed);\n",
       "    } else {\n",
       "      loadScript(\"vega\")\n",
       "        .then(() => loadScript(\"vega-lite\"))\n",
       "        .then(() => loadScript(\"vega-embed\"))\n",
       "        .catch(showError)\n",
       "        .then(() => displayChart(vegaEmbed));\n",
       "    }\n",
       "  })({\"config\": {\"view\": {\"continuousWidth\": 400, \"continuousHeight\": 300}, \"axis\": {\"labelAngle\": 0, \"labelFontSize\": 14, \"titleFontSize\": 20}, \"title\": {\"fontSize\": 20}}, \"data\": {\"name\": \"data-baa271b6bab3a91f0d565f138be35879\"}, \"mark\": {\"type\": \"bar\", \"cornerRadiusTopLeft\": 3, \"cornerRadiusTopRight\": 3}, \"encoding\": {\"color\": {\"type\": \"nominal\", \"field\": \"name\"}, \"tooltip\": [{\"type\": \"nominal\", \"field\": \"name\"}, {\"type\": \"quantitative\", \"field\": \"percentage\", \"format\": \".1%\"}], \"x\": {\"type\": \"ordinal\", \"field\": \"question\"}, \"y\": {\"type\": \"quantitative\", \"axis\": {\"format\": \"%\"}, \"field\": \"percentage\"}}, \"height\": 300, \"title\": \"Facial Expression Percentage Breakdown by Question\", \"width\": 500, \"$schema\": \"https://vega.github.io/schema/vega-lite/v4.8.1.json\", \"datasets\": {\"data-baa271b6bab3a91f0d565f138be35879\": [{\"question\": 1, \"name\": \"fear\", \"count\": 1, \"percentage\": 0.0}, {\"question\": 1, \"name\": \"happy\", \"count\": 102, \"percentage\": 0.32}, {\"question\": 1, \"name\": \"neutral\", \"count\": 215, \"percentage\": 0.67}, {\"question\": 1, \"name\": \"sad\", \"count\": 2, \"percentage\": 0.01}, {\"question\": 2, \"name\": \"angry\", \"count\": 34, \"percentage\": 0.1}, {\"question\": 2, \"name\": \"fear\", \"count\": 58, \"percentage\": 0.16}, {\"question\": 2, \"name\": \"happy\", \"count\": 3, \"percentage\": 0.01}, {\"question\": 2, \"name\": \"neutral\", \"count\": 205, \"percentage\": 0.57}, {\"question\": 2, \"name\": \"sad\", \"count\": 8, \"percentage\": 0.02}, {\"question\": 2, \"name\": \"surprise\", \"count\": 49, \"percentage\": 0.14}, {\"question\": 3, \"name\": \"happy\", \"count\": 241, \"percentage\": 0.77}, {\"question\": 3, \"name\": \"neutral\", \"count\": 70, \"percentage\": 0.23}, {\"question\": 4, \"name\": \"happy\", \"count\": 126, \"percentage\": 0.42}, {\"question\": 4, \"name\": \"neutral\", \"count\": 171, \"percentage\": 0.57}, {\"question\": 4, \"name\": \"sad\", \"count\": 1, \"percentage\": 0.0}, {\"question\": 5, \"name\": \"angry\", \"count\": 14, \"percentage\": 0.04}, {\"question\": 5, \"name\": \"fear\", \"count\": 32, \"percentage\": 0.1}, {\"question\": 5, \"name\": \"happy\", \"count\": 12, \"percentage\": 0.04}, {\"question\": 5, \"name\": \"neutral\", \"count\": 248, \"percentage\": 0.79}, {\"question\": 5, \"name\": \"sad\", \"count\": 2, \"percentage\": 0.01}, {\"question\": 5, \"name\": \"surprise\", \"count\": 4, \"percentage\": 0.01}]}}, {\"mode\": \"vega-lite\"});\n",
       "</script>"
      ],
      "text/plain": [
       "alt.Chart(...)"
      ]
     },
     "execution_count": 3,
     "metadata": {},
     "output_type": "execute_result"
    }
   ],
   "source": [
    "alt.Chart(agg_df, title=\"Facial Expression Percentage Breakdown by Question\").mark_bar(\n",
    "    cornerRadiusTopLeft=3,\n",
    "    cornerRadiusTopRight=3\n",
    ").encode(\n",
    "    x='question:O',\n",
    "    y=alt.Y('percentage:Q', axis=alt.Axis(format='%')),\n",
    "    color='name:N',\n",
    "    tooltip=['name', alt.Tooltip('percentage:Q', format='.1%')],\n",
    "    ).properties(\n",
    "    width=500,\n",
    "    height=300\n",
    ").configure_axis(\n",
    "\n",
    "    labelAngle=0,\n",
    "    labelFontSize=14,\n",
    "    titleFontSize=20\n",
    ").configure_title(\n",
    "    fontSize=20\n",
    ")"
   ]
  },
  {
   "cell_type": "code",
   "execution_count": 4,
   "id": "f354615c",
   "metadata": {
    "ExecuteTime": {
     "end_time": "2021-06-30T14:33:26.336130Z",
     "start_time": "2021-06-30T14:33:26.327122Z"
    }
   },
   "outputs": [],
   "source": [
    "eye_agg_df = video_df.groupby(['question', 'eye_contact']).size().to_frame('count').reset_index()\n",
    "eye_agg_df['percentage'] = round(eye_agg_df['count'] / eye_agg_df.groupby('question')['count'].transform('sum'), 2)"
   ]
  },
  {
   "cell_type": "code",
   "execution_count": 5,
   "id": "b0a7c0cb",
   "metadata": {
    "ExecuteTime": {
     "end_time": "2021-06-30T14:33:26.363028Z",
     "start_time": "2021-06-30T14:33:26.337094Z"
    }
   },
   "outputs": [
    {
     "data": {
      "text/html": [
       "\n",
       "<div id=\"altair-viz-1861c4fa6fe647079fc7ce0cdcb64df5\"></div>\n",
       "<script type=\"text/javascript\">\n",
       "  (function(spec, embedOpt){\n",
       "    let outputDiv = document.currentScript.previousElementSibling;\n",
       "    if (outputDiv.id !== \"altair-viz-1861c4fa6fe647079fc7ce0cdcb64df5\") {\n",
       "      outputDiv = document.getElementById(\"altair-viz-1861c4fa6fe647079fc7ce0cdcb64df5\");\n",
       "    }\n",
       "    const paths = {\n",
       "      \"vega\": \"https://cdn.jsdelivr.net/npm//vega@5?noext\",\n",
       "      \"vega-lib\": \"https://cdn.jsdelivr.net/npm//vega-lib?noext\",\n",
       "      \"vega-lite\": \"https://cdn.jsdelivr.net/npm//vega-lite@4.8.1?noext\",\n",
       "      \"vega-embed\": \"https://cdn.jsdelivr.net/npm//vega-embed@6?noext\",\n",
       "    };\n",
       "\n",
       "    function loadScript(lib) {\n",
       "      return new Promise(function(resolve, reject) {\n",
       "        var s = document.createElement('script');\n",
       "        s.src = paths[lib];\n",
       "        s.async = true;\n",
       "        s.onload = () => resolve(paths[lib]);\n",
       "        s.onerror = () => reject(`Error loading script: ${paths[lib]}`);\n",
       "        document.getElementsByTagName(\"head\")[0].appendChild(s);\n",
       "      });\n",
       "    }\n",
       "\n",
       "    function showError(err) {\n",
       "      outputDiv.innerHTML = `<div class=\"error\" style=\"color:red;\">${err}</div>`;\n",
       "      throw err;\n",
       "    }\n",
       "\n",
       "    function displayChart(vegaEmbed) {\n",
       "      vegaEmbed(outputDiv, spec, embedOpt)\n",
       "        .catch(err => showError(`Javascript Error: ${err.message}<br>This usually means there's a typo in your chart specification. See the javascript console for the full traceback.`));\n",
       "    }\n",
       "\n",
       "    if(typeof define === \"function\" && define.amd) {\n",
       "      requirejs.config({paths});\n",
       "      require([\"vega-embed\"], displayChart, err => showError(`Error loading script: ${err.message}`));\n",
       "    } else if (typeof vegaEmbed === \"function\") {\n",
       "      displayChart(vegaEmbed);\n",
       "    } else {\n",
       "      loadScript(\"vega\")\n",
       "        .then(() => loadScript(\"vega-lite\"))\n",
       "        .then(() => loadScript(\"vega-embed\"))\n",
       "        .catch(showError)\n",
       "        .then(() => displayChart(vegaEmbed));\n",
       "    }\n",
       "  })({\"config\": {\"view\": {\"continuousWidth\": 400, \"continuousHeight\": 300}, \"axis\": {\"labelAngle\": 0, \"labelFontSize\": 14, \"titleFontSize\": 20}, \"title\": {\"fontSize\": 20}}, \"data\": {\"name\": \"data-b88efe8e2c1a802a8317e6bbe4c39ad8\"}, \"mark\": {\"type\": \"bar\", \"cornerRadiusTopLeft\": 3, \"cornerRadiusTopRight\": 3}, \"encoding\": {\"color\": {\"type\": \"nominal\", \"field\": \"eye_contact\"}, \"tooltip\": [{\"type\": \"nominal\", \"field\": \"eye_contact\"}, {\"type\": \"quantitative\", \"field\": \"percentage\", \"format\": \".1%\"}], \"x\": {\"type\": \"ordinal\", \"field\": \"question\"}, \"y\": {\"type\": \"quantitative\", \"axis\": {\"format\": \"%\"}, \"field\": \"percentage\"}}, \"height\": 300, \"title\": \"Eye Contact Percentage Breakdown by Question\", \"width\": 500, \"$schema\": \"https://vega.github.io/schema/vega-lite/v4.8.1.json\", \"datasets\": {\"data-b88efe8e2c1a802a8317e6bbe4c39ad8\": [{\"question\": 1, \"eye_contact\": \"blink\", \"count\": 75, \"percentage\": 0.24}, {\"question\": 1, \"eye_contact\": \"center\", \"count\": 214, \"percentage\": 0.68}, {\"question\": 1, \"eye_contact\": \"left\", \"count\": 25, \"percentage\": 0.08}, {\"question\": 2, \"eye_contact\": \"blink\", \"count\": 100, \"percentage\": 0.28}, {\"question\": 2, \"eye_contact\": \"center\", \"count\": 192, \"percentage\": 0.54}, {\"question\": 2, \"eye_contact\": \"left\", \"count\": 64, \"percentage\": 0.18}, {\"question\": 3, \"eye_contact\": \"blink\", \"count\": 158, \"percentage\": 0.51}, {\"question\": 3, \"eye_contact\": \"center\", \"count\": 121, \"percentage\": 0.39}, {\"question\": 3, \"eye_contact\": \"left\", \"count\": 32, \"percentage\": 0.1}, {\"question\": 4, \"eye_contact\": \"blink\", \"count\": 150, \"percentage\": 0.51}, {\"question\": 4, \"eye_contact\": \"center\", \"count\": 113, \"percentage\": 0.38}, {\"question\": 4, \"eye_contact\": \"left\", \"count\": 33, \"percentage\": 0.11}, {\"question\": 5, \"eye_contact\": \"blink\", \"count\": 161, \"percentage\": 0.53}, {\"question\": 5, \"eye_contact\": \"center\", \"count\": 68, \"percentage\": 0.22}, {\"question\": 5, \"eye_contact\": \"left\", \"count\": 77, \"percentage\": 0.25}]}}, {\"mode\": \"vega-lite\"});\n",
       "</script>"
      ],
      "text/plain": [
       "alt.Chart(...)"
      ]
     },
     "execution_count": 5,
     "metadata": {},
     "output_type": "execute_result"
    }
   ],
   "source": [
    "alt.Chart(eye_agg_df, title=\"Eye Contact Percentage Breakdown by Question\").mark_bar(\n",
    "    cornerRadiusTopLeft=3,\n",
    "    cornerRadiusTopRight=3\n",
    ").encode(\n",
    "    x='question:O',\n",
    "    y=alt.Y('percentage:Q', axis=alt.Axis(format='%')),\n",
    "    color='eye_contact:N',\n",
    "    tooltip=['eye_contact', alt.Tooltip('percentage:Q', format='.1%')],\n",
    "    ).properties(\n",
    "    width=500,\n",
    "    height=300\n",
    ").configure_axis(\n",
    "\n",
    "    labelAngle=0,\n",
    "    labelFontSize=14,\n",
    "    titleFontSize=20\n",
    ").configure_title(\n",
    "    fontSize=20\n",
    ")"
   ]
  },
  {
   "cell_type": "markdown",
   "id": "eb71a78a",
   "metadata": {},
   "source": [
    "## Ordinal Scoring\n",
    "\n",
    "* Assign happy sad, etc a score\n",
    "* multiply with eye contact"
   ]
  },
  {
   "cell_type": "code",
   "execution_count": 6,
   "id": "d78a706a",
   "metadata": {
    "ExecuteTime": {
     "end_time": "2021-06-30T14:33:26.536984Z",
     "start_time": "2021-06-30T14:33:26.524989Z"
    }
   },
   "outputs": [],
   "source": [
    "factor = 10/7\n",
    "\n",
    "emotion_map = {\n",
    "    'happy':factor*7, \n",
    "    'neutral':factor*6, \n",
    "    'surprise':factor*5, \n",
    "    'sad':factor*4, \n",
    "    'angry':factor*3, \n",
    "    'disgust':factor*2, \n",
    "    'fear':factor*1\n",
    " \n",
    "}\n",
    "\n",
    "\n",
    "emotion_calc = agg_df[['question', 'name', 'percentage']].copy()\n",
    "emotion_calc['name'] = emotion_calc['name'].replace(emotion_map)\n",
    "\n",
    "emotion_calc['emotion_score'] = emotion_calc['name']*emotion_calc['percentage']\n",
    "\n",
    "emotion_calc = emotion_calc.groupby(['question'])['emotion_score'].sum().to_frame('emotion_score')\n",
    "\n",
    "emotion_calc = emotion_calc.reset_index()"
   ]
  },
  {
   "cell_type": "code",
   "execution_count": 7,
   "id": "0aeda45d",
   "metadata": {
    "ExecuteTime": {
     "end_time": "2021-06-30T14:33:26.770332Z",
     "start_time": "2021-06-30T14:33:26.745398Z"
    }
   },
   "outputs": [
    {
     "data": {
      "text/html": [
       "\n",
       "<div id=\"altair-viz-0f796e4ca02c474d839c3c6b14904785\"></div>\n",
       "<script type=\"text/javascript\">\n",
       "  (function(spec, embedOpt){\n",
       "    let outputDiv = document.currentScript.previousElementSibling;\n",
       "    if (outputDiv.id !== \"altair-viz-0f796e4ca02c474d839c3c6b14904785\") {\n",
       "      outputDiv = document.getElementById(\"altair-viz-0f796e4ca02c474d839c3c6b14904785\");\n",
       "    }\n",
       "    const paths = {\n",
       "      \"vega\": \"https://cdn.jsdelivr.net/npm//vega@5?noext\",\n",
       "      \"vega-lib\": \"https://cdn.jsdelivr.net/npm//vega-lib?noext\",\n",
       "      \"vega-lite\": \"https://cdn.jsdelivr.net/npm//vega-lite@4.8.1?noext\",\n",
       "      \"vega-embed\": \"https://cdn.jsdelivr.net/npm//vega-embed@6?noext\",\n",
       "    };\n",
       "\n",
       "    function loadScript(lib) {\n",
       "      return new Promise(function(resolve, reject) {\n",
       "        var s = document.createElement('script');\n",
       "        s.src = paths[lib];\n",
       "        s.async = true;\n",
       "        s.onload = () => resolve(paths[lib]);\n",
       "        s.onerror = () => reject(`Error loading script: ${paths[lib]}`);\n",
       "        document.getElementsByTagName(\"head\")[0].appendChild(s);\n",
       "      });\n",
       "    }\n",
       "\n",
       "    function showError(err) {\n",
       "      outputDiv.innerHTML = `<div class=\"error\" style=\"color:red;\">${err}</div>`;\n",
       "      throw err;\n",
       "    }\n",
       "\n",
       "    function displayChart(vegaEmbed) {\n",
       "      vegaEmbed(outputDiv, spec, embedOpt)\n",
       "        .catch(err => showError(`Javascript Error: ${err.message}<br>This usually means there's a typo in your chart specification. See the javascript console for the full traceback.`));\n",
       "    }\n",
       "\n",
       "    if(typeof define === \"function\" && define.amd) {\n",
       "      requirejs.config({paths});\n",
       "      require([\"vega-embed\"], displayChart, err => showError(`Error loading script: ${err.message}`));\n",
       "    } else if (typeof vegaEmbed === \"function\") {\n",
       "      displayChart(vegaEmbed);\n",
       "    } else {\n",
       "      loadScript(\"vega\")\n",
       "        .then(() => loadScript(\"vega-lite\"))\n",
       "        .then(() => loadScript(\"vega-embed\"))\n",
       "        .catch(showError)\n",
       "        .then(() => displayChart(vegaEmbed));\n",
       "    }\n",
       "  })({\"config\": {\"view\": {\"continuousWidth\": 400, \"continuousHeight\": 300}, \"axis\": {\"labelAngle\": 0, \"labelFontSize\": 14, \"titleFontSize\": 20}, \"title\": {\"fontSize\": 20}}, \"data\": {\"name\": \"data-a7f5a44499ceffb2e91218313184acc5\"}, \"mark\": {\"type\": \"bar\", \"cornerRadiusTopLeft\": 3, \"cornerRadiusTopRight\": 3}, \"encoding\": {\"tooltip\": [{\"type\": \"quantitative\", \"field\": \"question\"}, {\"type\": \"quantitative\", \"field\": \"emotion_score\", \"format\": \".1f\"}], \"x\": {\"type\": \"ordinal\", \"field\": \"question\"}, \"y\": {\"type\": \"quantitative\", \"axis\": {\"format\": \".1f\"}, \"field\": \"emotion_score\"}}, \"height\": 300, \"title\": \"Emotion Score by Question\", \"width\": 500, \"$schema\": \"https://vega.github.io/schema/vega-lite/v4.8.1.json\", \"datasets\": {\"data-a7f5a44499ceffb2e91218313184acc5\": [{\"question\": 1, \"emotion_score\": 9.0}, {\"question\": 2, \"emotion_score\": 6.757142857142856}, {\"question\": 3, \"emotion_score\": 9.67142857142857}, {\"question\": 4, \"emotion_score\": 9.085714285714285}, {\"question\": 5, \"emotion_score\": 7.614285714285714}]}}, {\"mode\": \"vega-lite\"});\n",
       "</script>"
      ],
      "text/plain": [
       "alt.Chart(...)"
      ]
     },
     "execution_count": 7,
     "metadata": {},
     "output_type": "execute_result"
    }
   ],
   "source": [
    "alt.Chart(emotion_calc, title=\"Emotion Score by Question\").mark_bar(\n",
    "    cornerRadiusTopLeft=3,\n",
    "    cornerRadiusTopRight=3\n",
    ").encode(\n",
    "    x='question:O',\n",
    "    y=alt.Y('emotion_score:Q', axis=alt.Axis(format='.1f')),\n",
    "    tooltip=['question', alt.Tooltip('emotion_score:Q', format='.1f')],\n",
    "    ).properties(\n",
    "    width=500,\n",
    "    height=300\n",
    ").configure_axis(\n",
    "\n",
    "    labelAngle=0,\n",
    "    labelFontSize=14,\n",
    "    titleFontSize=20\n",
    ").configure_title(\n",
    "    fontSize=20\n",
    ")"
   ]
  },
  {
   "cell_type": "code",
   "execution_count": 8,
   "id": "9863f632",
   "metadata": {
    "ExecuteTime": {
     "end_time": "2021-06-30T14:33:26.919150Z",
     "start_time": "2021-06-30T14:33:26.903193Z"
    }
   },
   "outputs": [
    {
     "data": {
      "text/html": [
       "<div>\n",
       "<style scoped>\n",
       "    .dataframe tbody tr th:only-of-type {\n",
       "        vertical-align: middle;\n",
       "    }\n",
       "\n",
       "    .dataframe tbody tr th {\n",
       "        vertical-align: top;\n",
       "    }\n",
       "\n",
       "    .dataframe thead th {\n",
       "        text-align: right;\n",
       "    }\n",
       "</style>\n",
       "<table border=\"1\" class=\"dataframe\">\n",
       "  <thead>\n",
       "    <tr style=\"text-align: right;\">\n",
       "      <th></th>\n",
       "      <th>question</th>\n",
       "      <th>emotion_score</th>\n",
       "    </tr>\n",
       "  </thead>\n",
       "  <tbody>\n",
       "    <tr>\n",
       "      <th>0</th>\n",
       "      <td>1</td>\n",
       "      <td>9.000000</td>\n",
       "    </tr>\n",
       "    <tr>\n",
       "      <th>1</th>\n",
       "      <td>2</td>\n",
       "      <td>6.757143</td>\n",
       "    </tr>\n",
       "    <tr>\n",
       "      <th>2</th>\n",
       "      <td>3</td>\n",
       "      <td>9.671429</td>\n",
       "    </tr>\n",
       "    <tr>\n",
       "      <th>3</th>\n",
       "      <td>4</td>\n",
       "      <td>9.085714</td>\n",
       "    </tr>\n",
       "    <tr>\n",
       "      <th>4</th>\n",
       "      <td>5</td>\n",
       "      <td>7.614286</td>\n",
       "    </tr>\n",
       "  </tbody>\n",
       "</table>\n",
       "</div>"
      ],
      "text/plain": [
       "   question  emotion_score\n",
       "0         1       9.000000\n",
       "1         2       6.757143\n",
       "2         3       9.671429\n",
       "3         4       9.085714\n",
       "4         5       7.614286"
      ]
     },
     "execution_count": 8,
     "metadata": {},
     "output_type": "execute_result"
    }
   ],
   "source": [
    "emotion_calc"
   ]
  },
  {
   "cell_type": "code",
   "execution_count": 9,
   "id": "b41d7b0e",
   "metadata": {
    "ExecuteTime": {
     "end_time": "2021-06-30T14:33:27.080644Z",
     "start_time": "2021-06-30T14:33:27.069162Z"
    }
   },
   "outputs": [],
   "source": [
    "eye_factor = 10/3\n",
    "\n",
    "eye_map = {\n",
    "    'center':eye_factor*3, \n",
    "    'blink':eye_factor*2, \n",
    "    'left':eye_factor*1, \n",
    "    'right':eye_factor*1,  \n",
    "}\n",
    "\n",
    "eye_calc = eye_agg_df[['question', 'eye_contact', 'percentage']].copy()\n",
    "eye_calc['eye_contact'] = eye_calc['eye_contact'].replace(eye_map)\n",
    "\n",
    "eye_calc['eye_contact_score'] = eye_calc['eye_contact']*eye_calc['percentage']\n",
    "\n",
    "eye_calc = eye_calc.groupby(['question'])['eye_contact_score'].sum().to_frame('eye_contact_score')\n",
    "\n",
    "eye_calc = eye_calc.reset_index()"
   ]
  },
  {
   "cell_type": "code",
   "execution_count": 10,
   "id": "4b15eabb",
   "metadata": {
    "ExecuteTime": {
     "end_time": "2021-06-30T14:33:27.241889Z",
     "start_time": "2021-06-30T14:33:27.234905Z"
    }
   },
   "outputs": [
    {
     "data": {
      "text/html": [
       "<div>\n",
       "<style scoped>\n",
       "    .dataframe tbody tr th:only-of-type {\n",
       "        vertical-align: middle;\n",
       "    }\n",
       "\n",
       "    .dataframe tbody tr th {\n",
       "        vertical-align: top;\n",
       "    }\n",
       "\n",
       "    .dataframe thead th {\n",
       "        text-align: right;\n",
       "    }\n",
       "</style>\n",
       "<table border=\"1\" class=\"dataframe\">\n",
       "  <thead>\n",
       "    <tr style=\"text-align: right;\">\n",
       "      <th></th>\n",
       "      <th>question</th>\n",
       "      <th>eye_contact_score</th>\n",
       "    </tr>\n",
       "  </thead>\n",
       "  <tbody>\n",
       "    <tr>\n",
       "      <th>0</th>\n",
       "      <td>1</td>\n",
       "      <td>8.666667</td>\n",
       "    </tr>\n",
       "    <tr>\n",
       "      <th>1</th>\n",
       "      <td>2</td>\n",
       "      <td>7.866667</td>\n",
       "    </tr>\n",
       "    <tr>\n",
       "      <th>2</th>\n",
       "      <td>3</td>\n",
       "      <td>7.633333</td>\n",
       "    </tr>\n",
       "    <tr>\n",
       "      <th>3</th>\n",
       "      <td>4</td>\n",
       "      <td>7.566667</td>\n",
       "    </tr>\n",
       "    <tr>\n",
       "      <th>4</th>\n",
       "      <td>5</td>\n",
       "      <td>6.566667</td>\n",
       "    </tr>\n",
       "  </tbody>\n",
       "</table>\n",
       "</div>"
      ],
      "text/plain": [
       "   question  eye_contact_score\n",
       "0         1           8.666667\n",
       "1         2           7.866667\n",
       "2         3           7.633333\n",
       "3         4           7.566667\n",
       "4         5           6.566667"
      ]
     },
     "execution_count": 10,
     "metadata": {},
     "output_type": "execute_result"
    }
   ],
   "source": [
    "eye_calc"
   ]
  },
  {
   "cell_type": "code",
   "execution_count": 11,
   "id": "eac9ffb3",
   "metadata": {
    "ExecuteTime": {
     "end_time": "2021-06-30T14:33:27.426052Z",
     "start_time": "2021-06-30T14:33:27.406557Z"
    }
   },
   "outputs": [
    {
     "data": {
      "text/html": [
       "\n",
       "<div id=\"altair-viz-1d44db89585d4f9aa012b48a53bdc612\"></div>\n",
       "<script type=\"text/javascript\">\n",
       "  (function(spec, embedOpt){\n",
       "    let outputDiv = document.currentScript.previousElementSibling;\n",
       "    if (outputDiv.id !== \"altair-viz-1d44db89585d4f9aa012b48a53bdc612\") {\n",
       "      outputDiv = document.getElementById(\"altair-viz-1d44db89585d4f9aa012b48a53bdc612\");\n",
       "    }\n",
       "    const paths = {\n",
       "      \"vega\": \"https://cdn.jsdelivr.net/npm//vega@5?noext\",\n",
       "      \"vega-lib\": \"https://cdn.jsdelivr.net/npm//vega-lib?noext\",\n",
       "      \"vega-lite\": \"https://cdn.jsdelivr.net/npm//vega-lite@4.8.1?noext\",\n",
       "      \"vega-embed\": \"https://cdn.jsdelivr.net/npm//vega-embed@6?noext\",\n",
       "    };\n",
       "\n",
       "    function loadScript(lib) {\n",
       "      return new Promise(function(resolve, reject) {\n",
       "        var s = document.createElement('script');\n",
       "        s.src = paths[lib];\n",
       "        s.async = true;\n",
       "        s.onload = () => resolve(paths[lib]);\n",
       "        s.onerror = () => reject(`Error loading script: ${paths[lib]}`);\n",
       "        document.getElementsByTagName(\"head\")[0].appendChild(s);\n",
       "      });\n",
       "    }\n",
       "\n",
       "    function showError(err) {\n",
       "      outputDiv.innerHTML = `<div class=\"error\" style=\"color:red;\">${err}</div>`;\n",
       "      throw err;\n",
       "    }\n",
       "\n",
       "    function displayChart(vegaEmbed) {\n",
       "      vegaEmbed(outputDiv, spec, embedOpt)\n",
       "        .catch(err => showError(`Javascript Error: ${err.message}<br>This usually means there's a typo in your chart specification. See the javascript console for the full traceback.`));\n",
       "    }\n",
       "\n",
       "    if(typeof define === \"function\" && define.amd) {\n",
       "      requirejs.config({paths});\n",
       "      require([\"vega-embed\"], displayChart, err => showError(`Error loading script: ${err.message}`));\n",
       "    } else if (typeof vegaEmbed === \"function\") {\n",
       "      displayChart(vegaEmbed);\n",
       "    } else {\n",
       "      loadScript(\"vega\")\n",
       "        .then(() => loadScript(\"vega-lite\"))\n",
       "        .then(() => loadScript(\"vega-embed\"))\n",
       "        .catch(showError)\n",
       "        .then(() => displayChart(vegaEmbed));\n",
       "    }\n",
       "  })({\"config\": {\"view\": {\"continuousWidth\": 400, \"continuousHeight\": 300}, \"axis\": {\"labelAngle\": 0, \"labelFontSize\": 14, \"titleFontSize\": 20}, \"title\": {\"fontSize\": 20}}, \"data\": {\"name\": \"data-b0fffb9c45dc98cac9efd13a26dabce2\"}, \"mark\": {\"type\": \"bar\", \"cornerRadiusTopLeft\": 3, \"cornerRadiusTopRight\": 3}, \"encoding\": {\"tooltip\": [{\"type\": \"quantitative\", \"field\": \"question\"}, {\"type\": \"quantitative\", \"field\": \"eye_contact_score\", \"format\": \".1f\"}], \"x\": {\"type\": \"ordinal\", \"field\": \"question\"}, \"y\": {\"type\": \"quantitative\", \"axis\": {\"format\": \".1f\"}, \"field\": \"eye_contact_score\"}}, \"height\": 300, \"title\": \"Eye Contact Score by Question\", \"width\": 500, \"$schema\": \"https://vega.github.io/schema/vega-lite/v4.8.1.json\", \"datasets\": {\"data-b0fffb9c45dc98cac9efd13a26dabce2\": [{\"question\": 1, \"eye_contact_score\": 8.666666666666668}, {\"question\": 2, \"eye_contact_score\": 7.866666666666667}, {\"question\": 3, \"eye_contact_score\": 7.633333333333334}, {\"question\": 4, \"eye_contact_score\": 7.566666666666666}, {\"question\": 5, \"eye_contact_score\": 6.566666666666667}]}}, {\"mode\": \"vega-lite\"});\n",
       "</script>"
      ],
      "text/plain": [
       "alt.Chart(...)"
      ]
     },
     "execution_count": 11,
     "metadata": {},
     "output_type": "execute_result"
    }
   ],
   "source": [
    "alt.Chart(eye_calc, title=\"Eye Contact Score by Question\").mark_bar(\n",
    "    cornerRadiusTopLeft=3,\n",
    "    cornerRadiusTopRight=3\n",
    ").encode(\n",
    "    x='question:O',\n",
    "    y=alt.Y('eye_contact_score:Q', axis=alt.Axis(format='.1f')),\n",
    "    tooltip=['question', alt.Tooltip('eye_contact_score:Q', format='.1f')],\n",
    "    ).properties(\n",
    "    width=500,\n",
    "    height=300\n",
    ").configure_axis(\n",
    "\n",
    "    labelAngle=0,\n",
    "    labelFontSize=14,\n",
    "    titleFontSize=20\n",
    ").configure_title(\n",
    "    fontSize=20\n",
    ")"
   ]
  },
  {
   "cell_type": "code",
   "execution_count": 181,
   "id": "14675e48",
   "metadata": {
    "ExecuteTime": {
     "end_time": "2021-07-03T14:28:15.690932Z",
     "start_time": "2021-07-03T14:28:15.672285Z"
    }
   },
   "outputs": [],
   "source": [
    "video_df = emotion_calc.merge(eye_calc, on='question', how='inner').set_index('question')\n",
    "\n",
    "video_df[\"score\"] = video_df.mean(axis=1)\n",
    "\n",
    "video_df.reset_index(inplace=True)\n",
    "\n",
    "video_score = round(video_df[\"score\"].mean(), 1)"
   ]
  },
  {
   "cell_type": "code",
   "execution_count": 182,
   "id": "e158ecce",
   "metadata": {
    "ExecuteTime": {
     "end_time": "2021-07-03T14:28:16.322549Z",
     "start_time": "2021-07-03T14:28:16.317599Z"
    }
   },
   "outputs": [
    {
     "data": {
      "text/plain": [
       "8.0"
      ]
     },
     "execution_count": 182,
     "metadata": {},
     "output_type": "execute_result"
    }
   ],
   "source": [
    "video_score"
   ]
  },
  {
   "cell_type": "code",
   "execution_count": 183,
   "id": "475df4e2",
   "metadata": {
    "ExecuteTime": {
     "end_time": "2021-07-03T14:28:16.893434Z",
     "start_time": "2021-07-03T14:28:16.885458Z"
    }
   },
   "outputs": [
    {
     "data": {
      "text/html": [
       "<div>\n",
       "<style scoped>\n",
       "    .dataframe tbody tr th:only-of-type {\n",
       "        vertical-align: middle;\n",
       "    }\n",
       "\n",
       "    .dataframe tbody tr th {\n",
       "        vertical-align: top;\n",
       "    }\n",
       "\n",
       "    .dataframe thead th {\n",
       "        text-align: right;\n",
       "    }\n",
       "</style>\n",
       "<table border=\"1\" class=\"dataframe\">\n",
       "  <thead>\n",
       "    <tr style=\"text-align: right;\">\n",
       "      <th></th>\n",
       "      <th>question</th>\n",
       "      <th>emotion_score</th>\n",
       "      <th>eye_contact_score</th>\n",
       "      <th>score</th>\n",
       "    </tr>\n",
       "  </thead>\n",
       "  <tbody>\n",
       "    <tr>\n",
       "      <th>0</th>\n",
       "      <td>1</td>\n",
       "      <td>9.000000</td>\n",
       "      <td>8.666667</td>\n",
       "      <td>8.833333</td>\n",
       "    </tr>\n",
       "    <tr>\n",
       "      <th>1</th>\n",
       "      <td>2</td>\n",
       "      <td>6.757143</td>\n",
       "      <td>7.866667</td>\n",
       "      <td>7.311905</td>\n",
       "    </tr>\n",
       "    <tr>\n",
       "      <th>2</th>\n",
       "      <td>3</td>\n",
       "      <td>9.671429</td>\n",
       "      <td>7.633333</td>\n",
       "      <td>8.652381</td>\n",
       "    </tr>\n",
       "    <tr>\n",
       "      <th>3</th>\n",
       "      <td>4</td>\n",
       "      <td>9.085714</td>\n",
       "      <td>7.566667</td>\n",
       "      <td>8.326190</td>\n",
       "    </tr>\n",
       "    <tr>\n",
       "      <th>4</th>\n",
       "      <td>5</td>\n",
       "      <td>7.614286</td>\n",
       "      <td>6.566667</td>\n",
       "      <td>7.090476</td>\n",
       "    </tr>\n",
       "  </tbody>\n",
       "</table>\n",
       "</div>"
      ],
      "text/plain": [
       "   question  emotion_score  eye_contact_score     score\n",
       "0         1       9.000000           8.666667  8.833333\n",
       "1         2       6.757143           7.866667  7.311905\n",
       "2         3       9.671429           7.633333  8.652381\n",
       "3         4       9.085714           7.566667  8.326190\n",
       "4         5       7.614286           6.566667  7.090476"
      ]
     },
     "execution_count": 183,
     "metadata": {},
     "output_type": "execute_result"
    }
   ],
   "source": [
    "video_df"
   ]
  },
  {
   "cell_type": "code",
   "execution_count": 185,
   "id": "c174509f",
   "metadata": {
    "ExecuteTime": {
     "end_time": "2021-07-03T14:28:27.919256Z",
     "start_time": "2021-07-03T14:28:27.883771Z"
    }
   },
   "outputs": [
    {
     "data": {
      "text/html": [
       "\n",
       "<div id=\"altair-viz-94d338365b094d338242cf223358bf30\"></div>\n",
       "<script type=\"text/javascript\">\n",
       "  (function(spec, embedOpt){\n",
       "    let outputDiv = document.currentScript.previousElementSibling;\n",
       "    if (outputDiv.id !== \"altair-viz-94d338365b094d338242cf223358bf30\") {\n",
       "      outputDiv = document.getElementById(\"altair-viz-94d338365b094d338242cf223358bf30\");\n",
       "    }\n",
       "    const paths = {\n",
       "      \"vega\": \"https://cdn.jsdelivr.net/npm//vega@5?noext\",\n",
       "      \"vega-lib\": \"https://cdn.jsdelivr.net/npm//vega-lib?noext\",\n",
       "      \"vega-lite\": \"https://cdn.jsdelivr.net/npm//vega-lite@4.8.1?noext\",\n",
       "      \"vega-embed\": \"https://cdn.jsdelivr.net/npm//vega-embed@6?noext\",\n",
       "    };\n",
       "\n",
       "    function loadScript(lib) {\n",
       "      return new Promise(function(resolve, reject) {\n",
       "        var s = document.createElement('script');\n",
       "        s.src = paths[lib];\n",
       "        s.async = true;\n",
       "        s.onload = () => resolve(paths[lib]);\n",
       "        s.onerror = () => reject(`Error loading script: ${paths[lib]}`);\n",
       "        document.getElementsByTagName(\"head\")[0].appendChild(s);\n",
       "      });\n",
       "    }\n",
       "\n",
       "    function showError(err) {\n",
       "      outputDiv.innerHTML = `<div class=\"error\" style=\"color:red;\">${err}</div>`;\n",
       "      throw err;\n",
       "    }\n",
       "\n",
       "    function displayChart(vegaEmbed) {\n",
       "      vegaEmbed(outputDiv, spec, embedOpt)\n",
       "        .catch(err => showError(`Javascript Error: ${err.message}<br>This usually means there's a typo in your chart specification. See the javascript console for the full traceback.`));\n",
       "    }\n",
       "\n",
       "    if(typeof define === \"function\" && define.amd) {\n",
       "      requirejs.config({paths});\n",
       "      require([\"vega-embed\"], displayChart, err => showError(`Error loading script: ${err.message}`));\n",
       "    } else if (typeof vegaEmbed === \"function\") {\n",
       "      displayChart(vegaEmbed);\n",
       "    } else {\n",
       "      loadScript(\"vega\")\n",
       "        .then(() => loadScript(\"vega-lite\"))\n",
       "        .then(() => loadScript(\"vega-embed\"))\n",
       "        .catch(showError)\n",
       "        .then(() => displayChart(vegaEmbed));\n",
       "    }\n",
       "  })({\"config\": {\"view\": {\"continuousWidth\": 400, \"continuousHeight\": 300}, \"axis\": {\"labelAngle\": 0, \"labelFontSize\": 11, \"titleFontSize\": 11}, \"title\": {\"fontSize\": 14}}, \"layer\": [{\"mark\": {\"type\": \"bar\", \"cornerRadiusTopLeft\": 3, \"cornerRadiusTopRight\": 3}, \"encoding\": {\"tooltip\": [{\"type\": \"quantitative\", \"field\": \"question\"}, {\"type\": \"quantitative\", \"field\": \"score\", \"format\": \".1f\"}], \"x\": {\"type\": \"ordinal\", \"field\": \"question\"}, \"y\": {\"type\": \"quantitative\", \"axis\": {\"format\": \".1f\"}, \"field\": \"score\", \"scale\": {\"domain\": [0, 10]}}}, \"title\": \"Score by Question\"}, {\"mark\": {\"type\": \"text\", \"baseline\": \"middle\", \"dx\": 0, \"dy\": -8, \"size\": 15}, \"encoding\": {\"text\": {\"type\": \"quantitative\", \"field\": \"score\", \"format\": \".1f\"}, \"tooltip\": [{\"type\": \"quantitative\", \"field\": \"question\"}, {\"type\": \"quantitative\", \"field\": \"score\", \"format\": \".1f\"}], \"x\": {\"type\": \"ordinal\", \"field\": \"question\"}, \"y\": {\"type\": \"quantitative\", \"axis\": {\"format\": \".1f\"}, \"field\": \"score\", \"scale\": {\"domain\": [0, 10]}}}, \"title\": \"Score by Question\"}], \"data\": {\"name\": \"data-24ce9d874fade147962d90a78d3a83dc\"}, \"$schema\": \"https://vega.github.io/schema/vega-lite/v4.8.1.json\", \"datasets\": {\"data-24ce9d874fade147962d90a78d3a83dc\": [{\"question\": 1, \"emotion_score\": 9.0, \"eye_contact_score\": 8.666666666666668, \"score\": 8.833333333333334}, {\"question\": 2, \"emotion_score\": 6.757142857142856, \"eye_contact_score\": 7.866666666666667, \"score\": 7.311904761904762}, {\"question\": 3, \"emotion_score\": 9.67142857142857, \"eye_contact_score\": 7.633333333333334, \"score\": 8.652380952380952}, {\"question\": 4, \"emotion_score\": 9.085714285714285, \"eye_contact_score\": 7.566666666666666, \"score\": 8.326190476190476}, {\"question\": 5, \"emotion_score\": 7.614285714285714, \"eye_contact_score\": 6.566666666666667, \"score\": 7.09047619047619}]}}, {\"mode\": \"vega-lite\"});\n",
       "</script>"
      ],
      "text/plain": [
       "alt.LayerChart(...)"
      ]
     },
     "execution_count": 185,
     "metadata": {},
     "output_type": "execute_result"
    }
   ],
   "source": [
    "video_bars = alt.Chart(video_df, title=\"Score by Question\").mark_bar(\n",
    "        cornerRadiusTopLeft=3,\n",
    "        cornerRadiusTopRight=3\n",
    "    ).encode(\n",
    "        x='question:O',\n",
    "        y=alt.Y('score:Q', axis=alt.Axis(format='.1f'), scale=alt.Scale(domain=[0, 10])),\n",
    "        tooltip=['question', alt.Tooltip('score:Q', format='.1f')],\n",
    "        )\n",
    "video_text = video_bars.mark_text(\n",
    "    baseline='middle',\n",
    "    dx=0, # Nudges text to right so it doesn't appear on top of the bar\n",
    "    dy=-8,\n",
    "    size=15\n",
    ").encode(\n",
    "    text=alt.Text('score:Q',  format='.1f')\n",
    ")\n",
    "\n",
    "(video_bars + video_text).configure_title(\n",
    "        fontSize=14\n",
    "    ).configure_axis(\n",
    "        labelAngle=0,\n",
    "        labelFontSize=11,\n",
    "        titleFontSize=11)"
   ]
  },
  {
   "cell_type": "code",
   "execution_count": null,
   "id": "b965856f",
   "metadata": {},
   "outputs": [],
   "source": []
  },
  {
   "cell_type": "code",
   "execution_count": null,
   "id": "241f3376",
   "metadata": {},
   "outputs": [],
   "source": []
  },
  {
   "cell_type": "markdown",
   "id": "cfc1806e",
   "metadata": {},
   "source": [
    "# Writing Assessment"
   ]
  },
  {
   "cell_type": "code",
   "execution_count": 15,
   "id": "b21d6341",
   "metadata": {
    "ExecuteTime": {
     "end_time": "2021-06-30T14:33:28.898835Z",
     "start_time": "2021-06-30T14:33:28.880331Z"
    }
   },
   "outputs": [],
   "source": [
    "write_df = pd.read_csv('../sample_output/writing_data.csv')\n"
   ]
  },
  {
   "cell_type": "markdown",
   "id": "ae5f7f17",
   "metadata": {
    "ExecuteTime": {
     "end_time": "2021-06-28T09:06:00.997276Z",
     "start_time": "2021-06-28T09:06:00.988300Z"
    }
   },
   "source": [
    "## Sklearn\n"
   ]
  },
  {
   "cell_type": "code",
   "execution_count": null,
   "id": "6193af5c",
   "metadata": {},
   "outputs": [],
   "source": []
  },
  {
   "cell_type": "code",
   "execution_count": null,
   "id": "12d5058f",
   "metadata": {},
   "outputs": [],
   "source": []
  },
  {
   "cell_type": "code",
   "execution_count": 16,
   "id": "9ac6257d",
   "metadata": {
    "ExecuteTime": {
     "end_time": "2021-06-30T14:33:29.823286Z",
     "start_time": "2021-06-30T14:33:29.818299Z"
    }
   },
   "outputs": [],
   "source": [
    "sample = write_df['answer'].loc[0]"
   ]
  },
  {
   "cell_type": "code",
   "execution_count": 17,
   "id": "d7240df5",
   "metadata": {
    "ExecuteTime": {
     "end_time": "2021-06-30T14:33:30.209238Z",
     "start_time": "2021-06-30T14:33:30.205213Z"
    }
   },
   "outputs": [
    {
     "data": {
      "text/plain": [
       "'I will group them according to their level of priority and prioritize them. If the task is urgent and critical, I will finish it first. For the complicated task, I will break down the task into several pieces and finish it step by step. If I know I cannot finish it within a day, I will communicate with my supervisor to see if the deadline can be extended or if some colleagues can give help.'"
      ]
     },
     "execution_count": 17,
     "metadata": {},
     "output_type": "execute_result"
    }
   ],
   "source": [
    "sample"
   ]
  },
  {
   "cell_type": "markdown",
   "id": "c6b44715",
   "metadata": {},
   "source": [
    "## SpaCy"
   ]
  },
  {
   "cell_type": "code",
   "execution_count": 18,
   "id": "6e4b37ca",
   "metadata": {
    "ExecuteTime": {
     "end_time": "2021-06-30T14:33:36.302534Z",
     "start_time": "2021-06-30T14:33:31.087365Z"
    }
   },
   "outputs": [],
   "source": [
    "import spacy\n",
    "from spacy import displacy"
   ]
  },
  {
   "cell_type": "code",
   "execution_count": 19,
   "id": "bf26e2a9",
   "metadata": {
    "ExecuteTime": {
     "end_time": "2021-06-30T14:33:36.796248Z",
     "start_time": "2021-06-30T14:33:36.304377Z"
    }
   },
   "outputs": [],
   "source": [
    "nlp = spacy.load(\"en_core_web_sm\")\n",
    "\n",
    "# Process whole documents\n",
    "text = (sample)\n",
    "doc = nlp(text)\n",
    "\n",
    "# Analyze syntax\n",
    "noun = [chunk.text for chunk in doc.noun_chunks]\n",
    "verbs = [token.lemma_ for token in doc if token.pos_ == \"VERB\"]\n",
    "nouns = [token.lemma_ for token in doc if token.pos_ == \"NOUN\"]\n"
   ]
  },
  {
   "cell_type": "code",
   "execution_count": 42,
   "id": "701cfa4a",
   "metadata": {
    "ExecuteTime": {
     "end_time": "2021-06-30T15:06:18.088574Z",
     "start_time": "2021-06-30T15:06:18.077116Z"
    }
   },
   "outputs": [],
   "source": [
    "def get_keywords(kw_lemma, sample):\n",
    "    \n",
    "    # expected answer\n",
    "    ans = nlp(' '.join(kw_lemma))\n",
    "    kw_lemma_tup = [(token.lemma_, token.pos_) for token in ans if token.pos_ == \"NOUN\" or token.pos_ == \"VERB\"] \n",
    "    d1 = {}\n",
    "    \n",
    "    kw_ans = [kw[0] for kw in kw_lemma_tup]\n",
    "    \n",
    "    d1['text'] = ' '.join(kw_ans)\n",
    "    d1['ents'] = [{'start': d1['text'].find(kw[0]), 'end': d1['text'].find(kw[0])+len(kw[0]), 'label':kw[1]} for kw in kw_lemma_tup]\n",
    "    d1['title'] = \"Expected Keywords (Lemmatized)\"\n",
    "\n",
    "    expected = [d1]\n",
    "\n",
    "    #colors = {\"VERB\": \"linear-gradient(90deg, #aa9cfc, #fc9ce7)\"}\n",
    "\n",
    "    colors = {\"VERB\":'#e36262', \"NOUN\":'#a8f280'}\n",
    "\n",
    "    options = {\"ents\": [\"VERB\", \"NOUN\"], \"colors\": colors}\n",
    "    \n",
    "    html_exp = displacy.render(expected, style='ent', manual=True, options=options)\n",
    "    \n",
    "    \n",
    "    # answer\n",
    "    doc = nlp(sample)\n",
    "    d2 = {}\n",
    "    \n",
    "    d2['text'] = sample\n",
    "    d2['ents'] = [{'start':sample.find(token.text), 'end':sample.find(token.text) + len(token.text), 'label':\"MATCH\"} for token in doc if token.lemma_ in kw_ans]\n",
    "    d2['title'] = \"Candidate's Answer\"\n",
    "    \n",
    "    answer = [d2]\n",
    "    \n",
    "    colors_ans = {\"MATCH\":\"linear-gradient(90deg, #aa9cfc, #fc9ce7)\"}\n",
    "\n",
    "    options_ans = {\"ents\": [\"MATCH\"], \"colors\": colors_ans}\n",
    "    \n",
    "    html_ans = displacy.render(answer, style='ent', manual=True, options=options_ans)\n",
    "\n",
    "    hit = len(d2['ents'])\n",
    "    \n",
    "    return html_exp, html_ans, hit\n",
    "    \n",
    "    \n",
    "    \n",
    "    "
   ]
  },
  {
   "cell_type": "code",
   "execution_count": 40,
   "id": "c98dd5b9",
   "metadata": {
    "ExecuteTime": {
     "end_time": "2021-06-30T15:05:56.503955Z",
     "start_time": "2021-06-30T15:05:56.499999Z"
    }
   },
   "outputs": [],
   "source": [
    "kw_lemma = ['priority', 'supervisor', 'prioritizing', 'communicate', 'helping', 'grouping', 'extending', 'deadline', 'report', 'liaise', 'continue', 'persist']"
   ]
  },
  {
   "cell_type": "code",
   "execution_count": 41,
   "id": "ab7a0d1f",
   "metadata": {
    "ExecuteTime": {
     "end_time": "2021-06-30T15:05:57.259733Z",
     "start_time": "2021-06-30T15:05:57.233801Z"
    }
   },
   "outputs": [
    {
     "data": {
      "text/html": [
       "<span class=\"tex2jax_ignore\"><h2 style=\"margin: 0\">Expected Keywords (Lemmatized)</h2>\n",
       "\n",
       "<div class=\"entities\" style=\"line-height: 2.5; direction: ltr\">\n",
       "<mark class=\"entity\" style=\"background: #a8f280; padding: 0.45em 0.6em; margin: 0 0.25em; line-height: 1; border-radius: 0.35em;\">\n",
       "    priority\n",
       "    <span style=\"font-size: 0.8em; font-weight: bold; line-height: 1; border-radius: 0.35em; vertical-align: middle; margin-left: 0.5rem\">NOUN</span>\n",
       "</mark>\n",
       " \n",
       "<mark class=\"entity\" style=\"background: #a8f280; padding: 0.45em 0.6em; margin: 0 0.25em; line-height: 1; border-radius: 0.35em;\">\n",
       "    supervisor\n",
       "    <span style=\"font-size: 0.8em; font-weight: bold; line-height: 1; border-radius: 0.35em; vertical-align: middle; margin-left: 0.5rem\">NOUN</span>\n",
       "</mark>\n",
       " \n",
       "<mark class=\"entity\" style=\"background: #e36262; padding: 0.45em 0.6em; margin: 0 0.25em; line-height: 1; border-radius: 0.35em;\">\n",
       "    prioritize\n",
       "    <span style=\"font-size: 0.8em; font-weight: bold; line-height: 1; border-radius: 0.35em; vertical-align: middle; margin-left: 0.5rem\">VERB</span>\n",
       "</mark>\n",
       " \n",
       "<mark class=\"entity\" style=\"background: #e36262; padding: 0.45em 0.6em; margin: 0 0.25em; line-height: 1; border-radius: 0.35em;\">\n",
       "    help\n",
       "    <span style=\"font-size: 0.8em; font-weight: bold; line-height: 1; border-radius: 0.35em; vertical-align: middle; margin-left: 0.5rem\">VERB</span>\n",
       "</mark>\n",
       " \n",
       "<mark class=\"entity\" style=\"background: #a8f280; padding: 0.45em 0.6em; margin: 0 0.25em; line-height: 1; border-radius: 0.35em;\">\n",
       "    grouping\n",
       "    <span style=\"font-size: 0.8em; font-weight: bold; line-height: 1; border-radius: 0.35em; vertical-align: middle; margin-left: 0.5rem\">NOUN</span>\n",
       "</mark>\n",
       " \n",
       "<mark class=\"entity\" style=\"background: #e36262; padding: 0.45em 0.6em; margin: 0 0.25em; line-height: 1; border-radius: 0.35em;\">\n",
       "    extend\n",
       "    <span style=\"font-size: 0.8em; font-weight: bold; line-height: 1; border-radius: 0.35em; vertical-align: middle; margin-left: 0.5rem\">VERB</span>\n",
       "</mark>\n",
       " \n",
       "<mark class=\"entity\" style=\"background: #a8f280; padding: 0.45em 0.6em; margin: 0 0.25em; line-height: 1; border-radius: 0.35em;\">\n",
       "    deadline\n",
       "    <span style=\"font-size: 0.8em; font-weight: bold; line-height: 1; border-radius: 0.35em; vertical-align: middle; margin-left: 0.5rem\">NOUN</span>\n",
       "</mark>\n",
       " \n",
       "<mark class=\"entity\" style=\"background: #a8f280; padding: 0.45em 0.6em; margin: 0 0.25em; line-height: 1; border-radius: 0.35em;\">\n",
       "    report\n",
       "    <span style=\"font-size: 0.8em; font-weight: bold; line-height: 1; border-radius: 0.35em; vertical-align: middle; margin-left: 0.5rem\">NOUN</span>\n",
       "</mark>\n",
       " \n",
       "<mark class=\"entity\" style=\"background: #a8f280; padding: 0.45em 0.6em; margin: 0 0.25em; line-height: 1; border-radius: 0.35em;\">\n",
       "    liaise\n",
       "    <span style=\"font-size: 0.8em; font-weight: bold; line-height: 1; border-radius: 0.35em; vertical-align: middle; margin-left: 0.5rem\">NOUN</span>\n",
       "</mark>\n",
       " \n",
       "<mark class=\"entity\" style=\"background: #e36262; padding: 0.45em 0.6em; margin: 0 0.25em; line-height: 1; border-radius: 0.35em;\">\n",
       "    continue\n",
       "    <span style=\"font-size: 0.8em; font-weight: bold; line-height: 1; border-radius: 0.35em; vertical-align: middle; margin-left: 0.5rem\">VERB</span>\n",
       "</mark>\n",
       " \n",
       "<mark class=\"entity\" style=\"background: #a8f280; padding: 0.45em 0.6em; margin: 0 0.25em; line-height: 1; border-radius: 0.35em;\">\n",
       "    persist\n",
       "    <span style=\"font-size: 0.8em; font-weight: bold; line-height: 1; border-radius: 0.35em; vertical-align: middle; margin-left: 0.5rem\">NOUN</span>\n",
       "</mark>\n",
       "</div></span>"
      ],
      "text/plain": [
       "<IPython.core.display.HTML object>"
      ]
     },
     "metadata": {},
     "output_type": "display_data"
    },
    {
     "data": {
      "text/html": [
       "<span class=\"tex2jax_ignore\"><h2 style=\"margin: 0\">Candidate's Answer</h2>\n",
       "\n",
       "<div class=\"entities\" style=\"line-height: 2.5; direction: ltr\">I will group them according to their level of \n",
       "<mark class=\"entity\" style=\"background: linear-gradient(90deg, #aa9cfc, #fc9ce7); padding: 0.45em 0.6em; margin: 0 0.25em; line-height: 1; border-radius: 0.35em;\">\n",
       "    priority\n",
       "    <span style=\"font-size: 0.8em; font-weight: bold; line-height: 1; border-radius: 0.35em; vertical-align: middle; margin-left: 0.5rem\">MATCH</span>\n",
       "</mark>\n",
       " and \n",
       "<mark class=\"entity\" style=\"background: linear-gradient(90deg, #aa9cfc, #fc9ce7); padding: 0.45em 0.6em; margin: 0 0.25em; line-height: 1; border-radius: 0.35em;\">\n",
       "    prioritize\n",
       "    <span style=\"font-size: 0.8em; font-weight: bold; line-height: 1; border-radius: 0.35em; vertical-align: middle; margin-left: 0.5rem\">MATCH</span>\n",
       "</mark>\n",
       " them. If the task is urgent and critical, I will finish it first. For the complicated task, I will break down the task into several pieces and finish it step by step. If I know I cannot finish it within a day, I will communicate with my \n",
       "<mark class=\"entity\" style=\"background: linear-gradient(90deg, #aa9cfc, #fc9ce7); padding: 0.45em 0.6em; margin: 0 0.25em; line-height: 1; border-radius: 0.35em;\">\n",
       "    supervisor\n",
       "    <span style=\"font-size: 0.8em; font-weight: bold; line-height: 1; border-radius: 0.35em; vertical-align: middle; margin-left: 0.5rem\">MATCH</span>\n",
       "</mark>\n",
       " to see if the \n",
       "<mark class=\"entity\" style=\"background: linear-gradient(90deg, #aa9cfc, #fc9ce7); padding: 0.45em 0.6em; margin: 0 0.25em; line-height: 1; border-radius: 0.35em;\">\n",
       "    deadline\n",
       "    <span style=\"font-size: 0.8em; font-weight: bold; line-height: 1; border-radius: 0.35em; vertical-align: middle; margin-left: 0.5rem\">MATCH</span>\n",
       "</mark>\n",
       " can be \n",
       "<mark class=\"entity\" style=\"background: linear-gradient(90deg, #aa9cfc, #fc9ce7); padding: 0.45em 0.6em; margin: 0 0.25em; line-height: 1; border-radius: 0.35em;\">\n",
       "    extended\n",
       "    <span style=\"font-size: 0.8em; font-weight: bold; line-height: 1; border-radius: 0.35em; vertical-align: middle; margin-left: 0.5rem\">MATCH</span>\n",
       "</mark>\n",
       " or if some colleagues can give \n",
       "<mark class=\"entity\" style=\"background: linear-gradient(90deg, #aa9cfc, #fc9ce7); padding: 0.45em 0.6em; margin: 0 0.25em; line-height: 1; border-radius: 0.35em;\">\n",
       "    help\n",
       "    <span style=\"font-size: 0.8em; font-weight: bold; line-height: 1; border-radius: 0.35em; vertical-align: middle; margin-left: 0.5rem\">MATCH</span>\n",
       "</mark>\n",
       ".</div></span>"
      ],
      "text/plain": [
       "<IPython.core.display.HTML object>"
      ]
     },
     "metadata": {},
     "output_type": "display_data"
    },
    {
     "name": "stdout",
     "output_type": "stream",
     "text": [
      "6\n"
     ]
    }
   ],
   "source": [
    "html_exp, html_ans = get_keywords(kw_lemma, sample)"
   ]
  },
  {
   "cell_type": "code",
   "execution_count": 23,
   "id": "863a5fe9",
   "metadata": {
    "ExecuteTime": {
     "end_time": "2021-06-30T14:33:39.891823Z",
     "start_time": "2021-06-30T14:33:39.884845Z"
    }
   },
   "outputs": [
    {
     "data": {
      "text/plain": [
       "['priority', 'supervisor', 'prioritize', 'help', 'group', 'extend', 'deadline']"
      ]
     },
     "execution_count": 23,
     "metadata": {},
     "output_type": "execute_result"
    }
   ],
   "source": [
    "kw_ans"
   ]
  },
  {
   "cell_type": "code",
   "execution_count": 24,
   "id": "589369eb",
   "metadata": {
    "ExecuteTime": {
     "end_time": "2021-06-30T14:33:40.531415Z",
     "start_time": "2021-06-30T14:33:40.526430Z"
    }
   },
   "outputs": [
    {
     "data": {
      "text/plain": [
       "'I will group them according to their level of priority and prioritize them. If the task is urgent and critical, I will finish it first. For the complicated task, I will break down the task into several pieces and finish it step by step. If I know I cannot finish it within a day, I will communicate with my supervisor to see if the deadline can be extended or if some colleagues can give help.'"
      ]
     },
     "execution_count": 24,
     "metadata": {},
     "output_type": "execute_result"
    }
   ],
   "source": [
    "doc.text"
   ]
  },
  {
   "cell_type": "code",
   "execution_count": 28,
   "id": "7afd98b5",
   "metadata": {
    "ExecuteTime": {
     "end_time": "2021-06-30T14:36:24.904286Z",
     "start_time": "2021-06-30T14:36:24.895337Z"
    }
   },
   "outputs": [
    {
     "data": {
      "text/plain": [
       "[{'start': 7, 'end': 12, 'label': 'MATCH'},\n",
       " {'start': 46, 'end': 54, 'label': 'MATCH'},\n",
       " {'start': 59, 'end': 69, 'label': 'MATCH'},\n",
       " {'start': 307, 'end': 317, 'label': 'MATCH'},\n",
       " {'start': 332, 'end': 340, 'label': 'MATCH'},\n",
       " {'start': 348, 'end': 356, 'label': 'MATCH'},\n",
       " {'start': 388, 'end': 392, 'label': 'MATCH'}]"
      ]
     },
     "execution_count": 28,
     "metadata": {},
     "output_type": "execute_result"
    }
   ],
   "source": []
  },
  {
   "cell_type": "code",
   "execution_count": 26,
   "id": "da3c937a",
   "metadata": {
    "ExecuteTime": {
     "end_time": "2021-06-30T14:35:00.487057Z",
     "start_time": "2021-06-30T14:35:00.481104Z"
    }
   },
   "outputs": [
    {
     "data": {
      "text/plain": [
       "2"
      ]
     },
     "execution_count": 26,
     "metadata": {},
     "output_type": "execute_result"
    }
   ],
   "source": [
    "sample.find(\"will\")"
   ]
  },
  {
   "cell_type": "code",
   "execution_count": 99,
   "id": "76e39bfc",
   "metadata": {
    "ExecuteTime": {
     "end_time": "2021-06-29T13:47:06.217984Z",
     "start_time": "2021-06-29T13:47:06.207045Z"
    }
   },
   "outputs": [
    {
     "data": {
      "text/html": [
       "<span class=\"tex2jax_ignore\"><h2 style=\"margin: 0\">Answer 1</h2>\n",
       "\n",
       "<div class=\"entities\" style=\"line-height: 2.5; direction: ltr\">The cat \n",
       "<mark class=\"entity\" style=\"background: #ddd; padding: 0.45em 0.6em; margin: 0 0.25em; line-height: 1; border-radius: 0.35em;\">\n",
       "    jumped\n",
       "    <span style=\"font-size: 0.8em; font-weight: bold; line-height: 1; border-radius: 0.35em; vertical-align: middle; margin-left: 0.5rem\"></span>\n",
       "</mark>\n",
       " quickly over the wall and \n",
       "<mark class=\"entity\" style=\"background: linear-gradient(90deg, #aa9cfc, #fc9ce7); padding: 0.45em 0.6em; margin: 0 0.25em; line-height: 1; border-radius: 0.35em;\">\n",
       "    ran\n",
       "    <span style=\"font-size: 0.8em; font-weight: bold; line-height: 1; border-radius: 0.35em; vertical-align: middle; margin-left: 0.5rem\">KEYWORD</span>\n",
       "</mark>\n",
       ".</div></span>"
      ],
      "text/plain": [
       "<IPython.core.display.HTML object>"
      ]
     },
     "metadata": {},
     "output_type": "display_data"
    }
   ],
   "source": [
    "sentence = [{'text': 'The cat jumped quickly over the wall and ran.',\n",
    "    'ents': [{'start': 8, 'end':14, 'label': ''}, {'start': 41, 'end':44, 'label': 'KEYWORD'}],\n",
    "    'title': \"Answer 1\"}]\n",
    "\n",
    "colors = {\"KEYWORD\": \"linear-gradient(90deg, #aa9cfc, #fc9ce7)\"}\n",
    "\n",
    "options = {\"ents\": [\"KEYWORD\", ''], \"colors\": colors}\n",
    "\n",
    "displacy.render(sentence, style='ent', manual=True, options=options)"
   ]
  },
  {
   "cell_type": "code",
   "execution_count": 26,
   "id": "4e2f357b",
   "metadata": {
    "ExecuteTime": {
     "end_time": "2021-06-28T13:50:58.396108Z",
     "start_time": "2021-06-28T13:50:58.392097Z"
    }
   },
   "outputs": [
    {
     "data": {
      "text/plain": [
       "45"
      ]
     },
     "execution_count": 26,
     "metadata": {},
     "output_type": "execute_result"
    }
   ],
   "source": [
    "len(sentence[0]['text'])"
   ]
  },
  {
   "cell_type": "code",
   "execution_count": 67,
   "id": "90cfb3c2",
   "metadata": {
    "ExecuteTime": {
     "end_time": "2021-07-01T10:55:14.936742Z",
     "start_time": "2021-07-01T10:55:14.926072Z"
    }
   },
   "outputs": [],
   "source": [
    "key_1 = ['priority', 'supervisor', 'prioritizing', 'communicate', 'helping', 'grouping', 'extending', 'deadline', 'report', 'liaise', 'continue', 'persist']\n",
    "key_2 = ['admit', 'rectify', 'prevent', 'source', 'reflect', 'acknowledge', 'assisting', 'honest', 'discussion', 'learn']\n",
    "key_3 = ['helpful', 'friendly', 'teaching', 'help', 'contribute', 'sharing', 'knowledge', 'communicate', 'training', 'learn']\n",
    "key_4 = ['justify', 'calm', 'opinions', 'understand', 'facts', 'explain', 'suggest', 'honest', 'discussing', 'communicating']\n",
    "key_5 = ['honest', 'initiate', 'understanding', 'advicing', 'discussion', 'cause', 'assessing', 'listening', 'chance', 'communicating']\n",
    "\n",
    "kw_lemmas = [key_1, key_2, key_3, key_4, key_5]"
   ]
  },
  {
   "cell_type": "code",
   "execution_count": 64,
   "id": "4fde45dc",
   "metadata": {
    "ExecuteTime": {
     "end_time": "2021-07-01T10:44:13.943224Z",
     "start_time": "2021-07-01T10:44:13.936266Z"
    }
   },
   "outputs": [
    {
     "data": {
      "text/plain": [
       "'Assume you are the boss and one of your employees have been severely underperforming, what will you do?'"
      ]
     },
     "execution_count": 64,
     "metadata": {},
     "output_type": "execute_result"
    }
   ],
   "source": [
    "write_df[\"question\"].iloc[4]"
   ]
  },
  {
   "cell_type": "code",
   "execution_count": 65,
   "id": "f87b700d",
   "metadata": {
    "ExecuteTime": {
     "end_time": "2021-07-01T10:44:17.571577Z",
     "start_time": "2021-07-01T10:44:17.565594Z"
    }
   },
   "outputs": [
    {
     "data": {
      "text/plain": [
       "'I will sit down with him or her and have an honest conversation. A will initiate a discussion on what is causing the underperformance and why is it happening. I will not judge a book by its cover as they may be some very sensitive things are he or she is facing personally. After understanding the situation, I will assess and provide advice to that employee on how to get back on track.'"
      ]
     },
     "execution_count": 65,
     "metadata": {},
     "output_type": "execute_result"
    }
   ],
   "source": [
    "write_df[\"answer\"].iloc[4]"
   ]
  },
  {
   "cell_type": "code",
   "execution_count": 55,
   "id": "eb8b9353",
   "metadata": {
    "ExecuteTime": {
     "end_time": "2021-07-01T09:53:42.079480Z",
     "start_time": "2021-07-01T09:53:42.076488Z"
    }
   },
   "outputs": [],
   "source": [
    "answers = write_df['answer'].tolist()"
   ]
  },
  {
   "cell_type": "code",
   "execution_count": 69,
   "id": "88eee4e8",
   "metadata": {
    "ExecuteTime": {
     "end_time": "2021-07-01T11:09:54.621825Z",
     "start_time": "2021-07-01T11:09:52.358690Z"
    }
   },
   "outputs": [
    {
     "data": {
      "text/plain": [
       "[(['really', 'horrible'], -1.0, 1.0, None),\n",
       " (['worst', '!'], -1.0, 1.0, None),\n",
       " (['really', 'good'], 0.7, 0.6000000000000001, None),\n",
       " (['happy'], 0.8, 1.0, None)]"
      ]
     },
     "execution_count": 69,
     "metadata": {},
     "output_type": "execute_result"
    }
   ],
   "source": [
    "from spacytextblob.spacytextblob import SpacyTextBlob\n",
    "\n",
    "nlp = spacy.load('en_core_web_sm')\n",
    "nlp.add_pipe('spacytextblob')\n"
   ]
  },
  {
   "cell_type": "code",
   "execution_count": 98,
   "id": "b602a679",
   "metadata": {
    "ExecuteTime": {
     "end_time": "2021-07-01T11:19:28.081072Z",
     "start_time": "2021-07-01T11:19:28.041150Z"
    }
   },
   "outputs": [
    {
     "name": "stdout",
     "output_type": "stream",
     "text": [
      "-0.6999999999999998\n",
      "0.0\n",
      "0.0\n"
     ]
    }
   ],
   "source": [
    "text = answers[1]\n",
    "doc = nlp(text)\n",
    "\n",
    "for sent in doc.sents:\n",
    "    sub = nlp(sent.text)\n",
    "    print(sub._.polarity)"
   ]
  },
  {
   "cell_type": "code",
   "execution_count": 147,
   "id": "2fae31b1",
   "metadata": {
    "ExecuteTime": {
     "end_time": "2021-07-03T13:45:48.891100Z",
     "start_time": "2021-07-03T13:45:48.882155Z"
    }
   },
   "outputs": [],
   "source": [
    "writing_results_df = pd.read_csv(\"../sample_output/writing_results.csv\")"
   ]
  },
  {
   "cell_type": "code",
   "execution_count": 148,
   "id": "72f8a120",
   "metadata": {
    "ExecuteTime": {
     "end_time": "2021-07-03T13:45:49.095566Z",
     "start_time": "2021-07-03T13:45:49.090575Z"
    }
   },
   "outputs": [],
   "source": [
    "writing_results_df = writing_results_df[['question', 'hit_rate', 'polarity']]"
   ]
  },
  {
   "cell_type": "code",
   "execution_count": 149,
   "id": "b133d3e1",
   "metadata": {
    "ExecuteTime": {
     "end_time": "2021-07-03T13:45:49.264508Z",
     "start_time": "2021-07-03T13:45:49.256557Z"
    }
   },
   "outputs": [
    {
     "data": {
      "text/html": [
       "<div>\n",
       "<style scoped>\n",
       "    .dataframe tbody tr th:only-of-type {\n",
       "        vertical-align: middle;\n",
       "    }\n",
       "\n",
       "    .dataframe tbody tr th {\n",
       "        vertical-align: top;\n",
       "    }\n",
       "\n",
       "    .dataframe thead th {\n",
       "        text-align: right;\n",
       "    }\n",
       "</style>\n",
       "<table border=\"1\" class=\"dataframe\">\n",
       "  <thead>\n",
       "    <tr style=\"text-align: right;\">\n",
       "      <th></th>\n",
       "      <th>question</th>\n",
       "      <th>hit_rate</th>\n",
       "      <th>polarity</th>\n",
       "    </tr>\n",
       "  </thead>\n",
       "  <tbody>\n",
       "    <tr>\n",
       "      <th>0</th>\n",
       "      <td>1</td>\n",
       "      <td>0.5</td>\n",
       "      <td>-0.081111</td>\n",
       "    </tr>\n",
       "    <tr>\n",
       "      <th>1</th>\n",
       "      <td>2</td>\n",
       "      <td>0.6</td>\n",
       "      <td>-0.233333</td>\n",
       "    </tr>\n",
       "    <tr>\n",
       "      <th>2</th>\n",
       "      <td>3</td>\n",
       "      <td>0.4</td>\n",
       "      <td>0.152841</td>\n",
       "    </tr>\n",
       "    <tr>\n",
       "      <th>3</th>\n",
       "      <td>4</td>\n",
       "      <td>0.6</td>\n",
       "      <td>0.036111</td>\n",
       "    </tr>\n",
       "    <tr>\n",
       "      <th>4</th>\n",
       "      <td>5</td>\n",
       "      <td>0.4</td>\n",
       "      <td>0.114889</td>\n",
       "    </tr>\n",
       "  </tbody>\n",
       "</table>\n",
       "</div>"
      ],
      "text/plain": [
       "   question  hit_rate  polarity\n",
       "0         1       0.5 -0.081111\n",
       "1         2       0.6 -0.233333\n",
       "2         3       0.4  0.152841\n",
       "3         4       0.6  0.036111\n",
       "4         5       0.4  0.114889"
      ]
     },
     "execution_count": 149,
     "metadata": {},
     "output_type": "execute_result"
    }
   ],
   "source": [
    "writing_results_df"
   ]
  },
  {
   "cell_type": "code",
   "execution_count": 150,
   "id": "592afb9e",
   "metadata": {
    "ExecuteTime": {
     "end_time": "2021-07-03T13:45:49.665907Z",
     "start_time": "2021-07-03T13:45:49.652914Z"
    }
   },
   "outputs": [],
   "source": [
    "hit_rate = alt.Chart(writing_results_df, title=\"Hit Rate by Question\").mark_bar(\n",
    "        cornerRadiusTopLeft=3,\n",
    "        cornerRadiusTopRight=3\n",
    "    ).encode(\n",
    "        x='question:O',\n",
    "        y=alt.Y('hit_rate:Q', axis=alt.Axis(format='.1f'), scale=alt.Scale(domain=[0, 1])),\n",
    "        tooltip=['question', alt.Tooltip('hit_rate:Q', format='.1f')],\n",
    "        ).configure_axis(\n",
    "        labelAngle=0,\n",
    "        labelFontSize=11,\n",
    "        titleFontSize=11\n",
    "        \n",
    "    ).configure_title(\n",
    "        fontSize=14\n",
    "    )"
   ]
  },
  {
   "cell_type": "code",
   "execution_count": 151,
   "id": "525a3122",
   "metadata": {
    "ExecuteTime": {
     "end_time": "2021-07-03T13:45:50.382244Z",
     "start_time": "2021-07-03T13:45:50.361303Z"
    }
   },
   "outputs": [],
   "source": [
    "sentiment = alt.Chart(writing_results_df, title=\"Sentiment by Question\").mark_bar(\n",
    "        cornerRadiusTopLeft=3,\n",
    "        cornerRadiusTopRight=3\n",
    "    ).encode(\n",
    "        x='question:O',\n",
    "        y=alt.Y('polarity:Q', axis=alt.Axis(format='.1f')),\n",
    "        color=alt.condition(\n",
    "        alt.datum.polarity >= 0,  # If the year is 1810 this test returns True,\n",
    "        alt.value('green'),     # which sets the bar orange.\n",
    "        alt.value('red')   # And if it's not true it sets the bar steelblue.\n",
    "    ),\n",
    "        tooltip=['question', alt.Tooltip('polarity:Q', format='.1f')],\n",
    "        ).configure_axis(\n",
    "        labelAngle=0,\n",
    "        labelFontSize=11,\n",
    "        titleFontSize=11\n",
    "        \n",
    "    ).configure_title(\n",
    "        fontSize=14\n",
    "    )"
   ]
  },
  {
   "cell_type": "code",
   "execution_count": 152,
   "id": "1555413e",
   "metadata": {
    "ExecuteTime": {
     "end_time": "2021-07-03T13:45:55.406076Z",
     "start_time": "2021-07-03T13:45:55.402927Z"
    }
   },
   "outputs": [],
   "source": [
    "writing_results_df[\"score\"] = 5 + writing_results_df['hit_rate']*4 + writing_results['polarity']"
   ]
  },
  {
   "cell_type": "code",
   "execution_count": 174,
   "id": "48da8eaa",
   "metadata": {
    "ExecuteTime": {
     "end_time": "2021-07-03T13:55:13.282506Z",
     "start_time": "2021-07-03T13:55:13.252590Z"
    }
   },
   "outputs": [
    {
     "data": {
      "text/html": [
       "\n",
       "<div id=\"altair-viz-a1088493dad34141a945c94688f99829\"></div>\n",
       "<script type=\"text/javascript\">\n",
       "  (function(spec, embedOpt){\n",
       "    let outputDiv = document.currentScript.previousElementSibling;\n",
       "    if (outputDiv.id !== \"altair-viz-a1088493dad34141a945c94688f99829\") {\n",
       "      outputDiv = document.getElementById(\"altair-viz-a1088493dad34141a945c94688f99829\");\n",
       "    }\n",
       "    const paths = {\n",
       "      \"vega\": \"https://cdn.jsdelivr.net/npm//vega@5?noext\",\n",
       "      \"vega-lib\": \"https://cdn.jsdelivr.net/npm//vega-lib?noext\",\n",
       "      \"vega-lite\": \"https://cdn.jsdelivr.net/npm//vega-lite@4.8.1?noext\",\n",
       "      \"vega-embed\": \"https://cdn.jsdelivr.net/npm//vega-embed@6?noext\",\n",
       "    };\n",
       "\n",
       "    function loadScript(lib) {\n",
       "      return new Promise(function(resolve, reject) {\n",
       "        var s = document.createElement('script');\n",
       "        s.src = paths[lib];\n",
       "        s.async = true;\n",
       "        s.onload = () => resolve(paths[lib]);\n",
       "        s.onerror = () => reject(`Error loading script: ${paths[lib]}`);\n",
       "        document.getElementsByTagName(\"head\")[0].appendChild(s);\n",
       "      });\n",
       "    }\n",
       "\n",
       "    function showError(err) {\n",
       "      outputDiv.innerHTML = `<div class=\"error\" style=\"color:red;\">${err}</div>`;\n",
       "      throw err;\n",
       "    }\n",
       "\n",
       "    function displayChart(vegaEmbed) {\n",
       "      vegaEmbed(outputDiv, spec, embedOpt)\n",
       "        .catch(err => showError(`Javascript Error: ${err.message}<br>This usually means there's a typo in your chart specification. See the javascript console for the full traceback.`));\n",
       "    }\n",
       "\n",
       "    if(typeof define === \"function\" && define.amd) {\n",
       "      requirejs.config({paths});\n",
       "      require([\"vega-embed\"], displayChart, err => showError(`Error loading script: ${err.message}`));\n",
       "    } else if (typeof vegaEmbed === \"function\") {\n",
       "      displayChart(vegaEmbed);\n",
       "    } else {\n",
       "      loadScript(\"vega\")\n",
       "        .then(() => loadScript(\"vega-lite\"))\n",
       "        .then(() => loadScript(\"vega-embed\"))\n",
       "        .catch(showError)\n",
       "        .then(() => displayChart(vegaEmbed));\n",
       "    }\n",
       "  })({\"config\": {\"view\": {\"continuousWidth\": 400, \"continuousHeight\": 300}, \"axis\": {\"labelAngle\": 0, \"labelFontSize\": 11, \"titleFontSize\": 11}, \"title\": {\"fontSize\": 14}}, \"layer\": [{\"mark\": {\"type\": \"bar\", \"cornerRadiusTopLeft\": 3, \"cornerRadiusTopRight\": 3}, \"encoding\": {\"tooltip\": [{\"type\": \"quantitative\", \"field\": \"question\"}, {\"type\": \"quantitative\", \"field\": \"score\", \"format\": \".1f\"}], \"x\": {\"type\": \"ordinal\", \"field\": \"question\"}, \"y\": {\"type\": \"quantitative\", \"axis\": {\"format\": \".1f\"}, \"field\": \"score\", \"scale\": {\"domain\": [0, 10]}}}, \"title\": \"Score by Question\"}, {\"mark\": {\"type\": \"text\", \"baseline\": \"middle\", \"dx\": 0, \"dy\": -5, \"size\": 15}, \"encoding\": {\"text\": {\"type\": \"quantitative\", \"field\": \"score\", \"format\": \".1f\"}, \"tooltip\": [{\"type\": \"quantitative\", \"field\": \"question\"}, {\"type\": \"quantitative\", \"field\": \"score\", \"format\": \".1f\"}], \"x\": {\"type\": \"ordinal\", \"field\": \"question\"}, \"y\": {\"type\": \"quantitative\", \"axis\": {\"format\": \".1f\"}, \"field\": \"score\", \"scale\": {\"domain\": [0, 10]}}}, \"title\": \"Score by Question\"}], \"data\": {\"name\": \"data-04215aa2102fef1560d617a76fa8d649\"}, \"$schema\": \"https://vega.github.io/schema/vega-lite/v4.8.1.json\", \"datasets\": {\"data-04215aa2102fef1560d617a76fa8d649\": [{\"question\": 1, \"hit_rate\": 0.5, \"polarity\": -0.0811111111111111, \"score\": 6.918888888888889}, {\"question\": 2, \"hit_rate\": 0.6, \"polarity\": -0.2333333333333333, \"score\": 7.166666666666667}, {\"question\": 3, \"hit_rate\": 0.4, \"polarity\": 0.15284090909090908, \"score\": 6.752840909090908}, {\"question\": 4, \"hit_rate\": 0.6, \"polarity\": 0.03611111111111112, \"score\": 7.436111111111112}, {\"question\": 5, \"hit_rate\": 0.4, \"polarity\": 0.11488888888888887, \"score\": 6.714888888888889}]}}, {\"mode\": \"vega-lite\"});\n",
       "</script>"
      ],
      "text/plain": [
       "alt.LayerChart(...)"
      ]
     },
     "execution_count": 174,
     "metadata": {},
     "output_type": "execute_result"
    }
   ],
   "source": [
    "write_score = alt.Chart(writing_results_df, title=\"Score by Question\").mark_bar(\n",
    "        cornerRadiusTopLeft=3,\n",
    "        cornerRadiusTopRight=3\n",
    "    ).encode(\n",
    "        x='question:O',\n",
    "        y=alt.Y('score:Q', axis=alt.Axis(format='.1f'), scale=alt.Scale(domain=[0, 10])),\n",
    "        tooltip=['question', alt.Tooltip('score:Q', format='.1f')],\n",
    "        )\n",
    "write_text = write_score.mark_text(\n",
    "    baseline='middle',\n",
    "    dx=0, # Nudges text to right so it doesn't appear on top of the bar\n",
    "    dy=-5,\n",
    "    size=15\n",
    ").encode(\n",
    "    text=alt.Text('score:Q',  format='.1f')\n",
    ")\n",
    "\n",
    "(write_score + write_text).configure_title(\n",
    "        fontSize=14\n",
    "    ).configure_axis(\n",
    "        labelAngle=0,\n",
    "        labelFontSize=11,\n",
    "        titleFontSize=11)"
   ]
  },
  {
   "cell_type": "code",
   "execution_count": null,
   "id": "cbe55989",
   "metadata": {},
   "outputs": [],
   "source": []
  }
 ],
 "metadata": {
  "kernelspec": {
   "display_name": "Python 3",
   "language": "python",
   "name": "python3"
  },
  "language_info": {
   "codemirror_mode": {
    "name": "ipython",
    "version": 3
   },
   "file_extension": ".py",
   "mimetype": "text/x-python",
   "name": "python",
   "nbconvert_exporter": "python",
   "pygments_lexer": "ipython3",
   "version": "3.6.13"
  },
  "toc": {
   "base_numbering": 1,
   "nav_menu": {},
   "number_sections": true,
   "sideBar": true,
   "skip_h1_title": false,
   "title_cell": "Table of Contents",
   "title_sidebar": "Contents",
   "toc_cell": false,
   "toc_position": {
    "height": "calc(100% - 180px)",
    "left": "10px",
    "top": "150px",
    "width": "203px"
   },
   "toc_section_display": true,
   "toc_window_display": true
  }
 },
 "nbformat": 4,
 "nbformat_minor": 5
}
